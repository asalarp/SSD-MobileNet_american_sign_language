{
  "nbformat": 4,
  "nbformat_minor": 0,
  "metadata": {
    "colab": {
      "name": "american_sign_language_letters_object_detection.ipynb",
      "provenance": [],
      "collapsed_sections": []
    },
    "kernelspec": {
      "name": "python3",
      "display_name": "Python 3"
    },
    "accelerator": "GPU"
  },
  "cells": [
    {
      "cell_type": "markdown",
      "metadata": {
        "id": "MYiU0kezblLI"
      },
      "source": [
        "# SSD-MobileNet Model For american sign language letters object detection"
      ]
    },
    {
      "cell_type": "markdown",
      "metadata": {
        "id": "sqvsfdZBdKnM"
      },
      "source": [
        "### install Tensorflow 1.15"
      ]
    },
    {
      "cell_type": "code",
      "metadata": {
        "id": "-DSyihgPdIxc"
      },
      "source": [
        "%tensorflow_version 1.x\n",
        "!pip3 uninstall tensorflow\n",
        "!pip3 install --user tensorflow-gpu==1.15"
      ],
      "execution_count": null,
      "outputs": []
    },
    {
      "cell_type": "code",
      "metadata": {
        "id": "HRWXkBpP9Hlb"
      },
      "source": [
        "from google.colab import drive\n",
        "drive.mount('/content/drive/')"
      ],
      "execution_count": null,
      "outputs": []
    },
    {
      "cell_type": "code",
      "metadata": {
        "id": "2wFAgnH-cUBP"
      },
      "source": [
        "%cd \"/content/drive/MyDrive/Colab Notebooks/\""
      ],
      "execution_count": null,
      "outputs": []
    },
    {
      "cell_type": "markdown",
      "metadata": {
        "id": "Y1Q86AeEczWM"
      },
      "source": [
        "# Clone TensorFlow Model"
      ]
    },
    {
      "cell_type": "code",
      "metadata": {
        "id": "zzTTq4sxWi62"
      },
      "source": [
        "!git clone https://github.com/tensorflow/models.git"
      ],
      "execution_count": null,
      "outputs": []
    },
    {
      "cell_type": "markdown",
      "metadata": {
        "id": "Aj2Rsmrxc2n-"
      },
      "source": [
        "# Download SSD-MobileNet v2(pre-trained quantized model)"
      ]
    },
    {
      "cell_type": "code",
      "metadata": {
        "id": "F-uPyaEGGPff",
        "colab": {
          "base_uri": "https://localhost:8080/",
          "height": 204
        },
        "outputId": "457b2425-4f6d-477e-f10d-77c856e3fbb3"
      },
      "source": [
        "!wget http://download.tensorflow.org/models/object_detection/ssd_mobilenet_v2_quantized_300x300_coco_2019_01_03.tar.gz"
      ],
      "execution_count": null,
      "outputs": [
        {
          "output_type": "stream",
          "text": [
            "--2020-06-05 10:42:08--  http://download.tensorflow.org/models/object_detection/ssd_mobilenet_v2_quantized_300x300_coco_2019_01_03.tar.gz\n",
            "Resolving download.tensorflow.org (download.tensorflow.org)... 108.177.119.128, 2a00:1450:4013:c00::80\n",
            "Connecting to download.tensorflow.org (download.tensorflow.org)|108.177.119.128|:80... connected.\n",
            "HTTP request sent, awaiting response... 200 OK\n",
            "Length: 144806142 (138M) [application/x-tar]\n",
            "Saving to: ‘ssd_mobilenet_v2_quantized_300x300_coco_2019_01_03.tar.gz’\n",
            "\n",
            "\r          ssd_mobil   0%[                    ]       0  --.-KB/s               \r         ssd_mobile  15%[==>                 ]  20.90M   104MB/s               \r        ssd_mobilen  30%[=====>              ]  42.21M   106MB/s               \r       ssd_mobilene  45%[========>           ]  63.18M   105MB/s               \r      ssd_mobilenet  60%[===========>        ]  83.28M   104MB/s               \r     ssd_mobilenet_  75%[==============>     ] 103.78M   104MB/s               \r    ssd_mobilenet_v  88%[================>   ] 122.21M   102MB/s               \rssd_mobilenet_v2_qu 100%[===================>] 138.10M   100MB/s    in 1.4s    \n",
            "\n",
            "2020-06-05 10:42:09 (100 MB/s) - ‘ssd_mobilenet_v2_quantized_300x300_coco_2019_01_03.tar.gz’ saved [144806142/144806142]\n",
            "\n"
          ],
          "name": "stdout"
        }
      ]
    },
    {
      "cell_type": "code",
      "metadata": {
        "id": "MhgQFYiVHQi1"
      },
      "source": [
        "!tar -xf ssd_mobilenet_v2_quantized_300x300_coco_2019_01_03.tar.gz"
      ],
      "execution_count": null,
      "outputs": []
    },
    {
      "cell_type": "code",
      "metadata": {
        "id": "uSgSrLeHIf6e"
      },
      "source": [
        "%cd \"/content/drive/My Drive/Colab Notebooks/models/research\""
      ],
      "execution_count": null,
      "outputs": []
    },
    {
      "cell_type": "code",
      "metadata": {
        "id": "5ZX7EE1Kge9S"
      },
      "source": [
        "!mv  ssd_mobilenet_v2_quantized_300x300_coco_2019_01_03 ./object_detection/training/ "
      ],
      "execution_count": null,
      "outputs": []
    },
    {
      "cell_type": "markdown",
      "metadata": {
        "id": "8jWbY77ndXsv"
      },
      "source": [
        "# set the PYTHONPATH environment variable"
      ]
    },
    {
      "cell_type": "code",
      "metadata": {
        "id": "zj10cW-zhpLA"
      },
      "source": [
        "import os\n",
        "os.environ['PYTHONPATH'] += ':/content/drive/My Drive/Colab Notebooks/models/research:/content/drive/My Drive/Colab Notebooks/models/research/slim/'\n",
        "\n",
        "!echo $PYTHONPATH"
      ],
      "execution_count": null,
      "outputs": []
    },
    {
      "cell_type": "markdown",
      "metadata": {
        "id": "WL_pvPDhfCnp"
      },
      "source": [
        "# Compile the Protobuf files\n",
        "To configure model and training parameters "
      ]
    },
    {
      "cell_type": "code",
      "metadata": {
        "id": "itN9ZkA5ki27"
      },
      "source": [
        "!protoc --python_out=. ./object_detection/protos/anchor_generator.proto ./object_detection/protos/argmax_matcher.proto ./object_detection/protos/bipartite_matcher.proto ./object_detection/protos/box_coder.proto ./object_detection/protos/box_predictor.proto ./object_detection/protos/eval.proto ./object_detection/protos/faster_rcnn.proto ./object_detection/protos/faster_rcnn_box_coder.proto ./object_detection/protos/grid_anchor_generator.proto ./object_detection/protos/hyperparams.proto ./object_detection/protos/image_resizer.proto ./object_detection/protos/input_reader.proto ./object_detection/protos/losses.proto ./object_detection/protos/matcher.proto ./object_detection/protos/mean_stddev_box_coder.proto ./object_detection/protos/model.proto ./object_detection/protos/optimizer.proto ./object_detection/protos/pipeline.proto ./object_detection/protos/post_processing.proto ./object_detection/protos/preprocessor.proto ./object_detection/protos/region_similarity_calculator.proto ./object_detection/protos/square_box_coder.proto ./object_detection/protos/ssd.proto ./object_detection/protos/ssd_anchor_generator.proto ./object_detection/protos/string_int_label_map.proto ./object_detection/protos/train.proto ./object_detection/protos/keypoint_box_coder.proto ./object_detection/protos/multiscale_anchor_generator.proto ./object_detection/protos/graph_rewriter.proto ./object_detection/protos/calibration.proto ./object_detection/protos/flexible_grid_anchor_generator.proto\n"
      ],
      "execution_count": null,
      "outputs": []
    },
    {
      "cell_type": "markdown",
      "metadata": {
        "id": "tV2_fKkudd2k"
      },
      "source": [
        "# Fine-tune the Model"
      ]
    },
    {
      "cell_type": "code",
      "metadata": {
        "id": "RLPrN7E4mTGT"
      },
      "source": [
        "!python3 ./object_detection/model_main.py --logtostderr --pipeline_config_path=./object_detection/training/ssd_mobilenet_v2_quantized_300x300_coco.config --model_dir=./object_detection/training/ --num_train_steps=200000 --NUM_EVAL_STEPS=10 --alsologtostderr"
      ],
      "execution_count": null,
      "outputs": []
    },
    {
      "cell_type": "markdown",
      "metadata": {
        "id": "779jZAO5flWh"
      },
      "source": [
        "# Tensorboard for visualization"
      ]
    },
    {
      "cell_type": "code",
      "metadata": {
        "id": "yibYw9mjhwGS"
      },
      "source": [
        "%load_ext tensorboard\n",
        "%tensorboard --logdir ./object_detection/training"
      ],
      "execution_count": null,
      "outputs": []
    },
    {
      "cell_type": "markdown",
      "metadata": {
        "id": "zwRMxKk0f-9B"
      },
      "source": [
        "# Export frozen inference graph for TensorFlow Lite"
      ]
    },
    {
      "cell_type": "code",
      "metadata": {
        "id": "8IAUrr0iiH1S"
      },
      "source": [
        "!python3 object_detection/export_tflite_ssd_graph.py --pipeline_config_path=./object_detection/training/ssd_mobilenet_v2_quantized_300x300_coco.config  --trained_checkpoint_prefix=object_detection/training/model.ckpt-1247 --output_directory=object_detection/tflite_raspb/ --add_postprocessing_op=true\n"
      ],
      "execution_count": null,
      "outputs": []
    },
    {
      "cell_type": "markdown",
      "metadata": {
        "id": "EpBc18_wgIPa"
      },
      "source": [
        "# TFlite Convert"
      ]
    },
    {
      "cell_type": "code",
      "metadata": {
        "id": "oQZktNCOvpjT"
      },
      "source": [
        "!tflite_convert \\\n",
        "  --output_file=./object_detection/TFLite_model/detect_final.tflite \\\n",
        "  --input_shapes=1,300,300,3 \\\n",
        "  --graph_def_file=./object_detection/tflite_raspb/tflite_graph.pb \\\n",
        "  --output_format=TFLITE \\\n",
        "  --inference_type=QUANTIZED_UINT8 \\\n",
        "  --mean_values=128 \\\n",
        "  --std_dev_values=128 \\\n",
        "  --change_concat_input_ranges=False \\\n",
        "  --input_arrays=normalized_input_image_tensor \\\n",
        "  --output_arrays='TFLite_Detection_PostProcess','TFLite_Detection_PostProcess:1','TFLite_Detection_PostProcess:2','TFLite_Detection_PostProcess:3' \\\n",
        "  --allow_custom_ops\n"
      ],
      "execution_count": null,
      "outputs": []
    }
  ]
}